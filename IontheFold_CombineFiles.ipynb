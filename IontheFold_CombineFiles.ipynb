{
  "nbformat": 4,
  "nbformat_minor": 0,
  "metadata": {
    "colab": {
      "provenance": [],
      "mount_file_id": "10uAkC1L9RSJL25BInuQUwVVrn-SWsmsO",
      "authorship_tag": "ABX9TyOxeisYEPmIAx0/yoPbEMlF",
      "include_colab_link": true
    },
    "kernelspec": {
      "name": "python3",
      "display_name": "Python 3"
    },
    "language_info": {
      "name": "python"
    }
  },
  "cells": [
    {
      "cell_type": "markdown",
      "metadata": {
        "id": "view-in-github",
        "colab_type": "text"
      },
      "source": [
        "<a href=\"https://colab.research.google.com/github/neetushibu/IontheFold-Team6/blob/main/IontheFold_CombineFiles.ipynb\" target=\"_parent\"><img src=\"https://colab.research.google.com/assets/colab-badge.svg\" alt=\"Open In Colab\"/></a>"
      ]
    },
    {
      "cell_type": "code",
      "execution_count": null,
      "metadata": {
        "id": "910GwGbj_GMI"
      },
      "outputs": [],
      "source": []
    },
    {
      "cell_type": "code",
      "source": [
        "from google.colab import drive\n",
        "drive.mount('/content/drive')"
      ],
      "metadata": {
        "colab": {
          "base_uri": "https://localhost:8080/"
        },
        "id": "-souW10l_V3F",
        "outputId": "1ca64e44-517d-481e-cda2-0f430b45d921"
      },
      "execution_count": null,
      "outputs": [
        {
          "output_type": "stream",
          "name": "stdout",
          "text": [
            "Drive already mounted at /content/drive; to attempt to forcibly remount, call drive.mount(\"/content/drive\", force_remount=True).\n"
          ]
        }
      ]
    },
    {
      "cell_type": "code",
      "source": [
        "!python3 /content/drive/MyDrive/IontheFold/combine_files_script.py"
      ],
      "metadata": {
        "colab": {
          "base_uri": "https://localhost:8080/"
        },
        "id": "OlK-EtRW1A5k",
        "outputId": "77ff495f-bfc6-4ad0-c5cc-91890cb4ca94"
      },
      "execution_count": null,
      "outputs": [
        {
          "output_type": "stream",
          "name": "stdout",
          "text": [
            "📦 Starting Charge Analysis File Combiner...\n",
            "✅ All required libraries are available.\n",
            "======================================================================\n",
            "🧬 CHARGE ANALYSIS FILE COMBINER v2.0\n",
            "======================================================================\n",
            "This script combines charge analysis files with different timestamps\n",
            "into unified datasets while preserving data integrity.\n",
            "\n",
            "📁 FOLDER SETUP\n",
            "------------------------------\n",
            "Please enter the path to your folder containing the CSV files.\n",
            "\n",
            "Examples:\n",
            "  /path/to/your/charge_analysis_results/\n",
            "  C:\\Users\\YourName\\Documents\\charge_analysis\\\n",
            "  ./data/charge_analysis/\n",
            "\n",
            "📂 Enter your folder path: /content/drive/MyDrive/IontheFold/EDA/19-Aug-25\n",
            "\\n📁 Looking for files in: /content/drive/MyDrive/IontheFold/EDA/19-Aug-25/\n",
            "✅ Folder found!\n",
            "\\n📊 Found 31 CSV files total:\n",
            "   📄 10-20k- Batch3_charge_analysis_summary_163654.csv (0.6 MB)\n",
            "   📄 70-80k_Batch_2_charge_analysis_summary_20250812_065140.csv (0.2 MB)\n",
            "   📄 70-80k_Batch_2_charge_analysis_summary_20250812_111129.csv (0.1 MB)\n",
            "   📄 70-80k_Batch_2_charge_analysis_summary_20250812_125848.csv (0.3 MB)\n",
            "   📄 70-80k_folder_1_charge_analysis_summary_040055.csv (1.1 MB)\n",
            "   📄 charge_analysis_summary_000615.csv (0.3 MB)\n",
            "   📄 charge_analysis_summary_090614.csv (0.1 MB)\n",
            "   📄 charge_analysis_summary_20250805_002413.csv (1.2 MB)\n",
            "   📄 charge_analysis_summary_20250816_090614.csv (0.5 MB)\n",
            "   📄 charge_analysis_summary_20250816_113118.csv (0.5 MB)\n",
            "   📄 charge_analysis_summary_20250816_235822.csv (0.6 MB)\n",
            "   📄 charge_analysis_summary_20250817_064600.csv (0.5 MB)\n",
            "   📄 charge_analysis_summary_20250817_233042.csv (0.3 MB)\n",
            "   📄 charge_analysis_summary_20250817_233236.csv (0.3 MB)\n",
            "   📄 charge_analysis_summary_20250818_031734.csv (0.5 MB)\n",
            "   📄 charge_analysis_summary_20250818_050340.csv (0.5 MB)\n",
            "   📄 charge_analysis_summary_20250818_083321.csv (0.4 MB)\n",
            "   📄 charge_analysis_summary_20250818_100031.csv (0.5 MB)\n",
            "   📄 charge_analysis_summary_20250818_130130.csv (0.0 MB)\n",
            "   📄 charge_analysis_summary_20250818_130412.csv (0.5 MB)\n",
            "   📄 charge_analysis_summary_20250818_180939.csv (0.3 MB)\n",
            "   📄 charge_analysis_summary_20250818_233847.csv (0.4 MB)\n",
            "   📄 charge_analysis_summary_20250818_234349.csv (0.2 MB)\n",
            "   📄 charge_analysis_summary_20250818_234439.csv (0.5 MB)\n",
            "   📄 charge_analysis_summary_20250819_015424.csv (0.5 MB)\n",
            "   📄 charge_analysis_summary_20250819_072134.csv (0.5 MB)\n",
            "   📄 charge_analysis_summary_20250819_072552.csv (0.0 MB)\n",
            "   📄 charge_analysis_summary_20250819_073553.csv (0.2 MB)\n",
            "   📄 charge_analysis_summary_20250819_083410.csv (0.4 MB)\n",
            "   📄 charge_analysis_summary_20250819_100725.csv (0.4 MB)\n",
            "   📄 charge_analysis_summary_233042.csv (0.3 MB)\n",
            "\\n============================================================\n",
            "🔍 FILE DISCOVERY\n",
            "============================================================\n",
            "\\n📁 SUMMARY: Found 31 files\n",
            "   📄 10-20k- Batch3_charge_analysis_summary_163654.csv (0.6 MB)\n",
            "   📄 70-80k_Batch_2_charge_analysis_summary_20250812_065140.csv (0.2 MB)\n",
            "   📄 70-80k_Batch_2_charge_analysis_summary_20250812_111129.csv (0.1 MB)\n",
            "   📄 70-80k_Batch_2_charge_analysis_summary_20250812_125848.csv (0.3 MB)\n",
            "   📄 70-80k_folder_1_charge_analysis_summary_040055.csv (1.1 MB)\n",
            "   📄 charge_analysis_summary_000615.csv (0.3 MB)\n",
            "   📄 charge_analysis_summary_090614.csv (0.1 MB)\n",
            "   📄 charge_analysis_summary_20250805_002413.csv (1.2 MB)\n",
            "   📄 charge_analysis_summary_20250816_090614.csv (0.5 MB)\n",
            "   📄 charge_analysis_summary_20250816_113118.csv (0.5 MB)\n",
            "   📄 charge_analysis_summary_20250816_235822.csv (0.6 MB)\n",
            "   📄 charge_analysis_summary_20250817_064600.csv (0.5 MB)\n",
            "   📄 charge_analysis_summary_20250817_233042.csv (0.3 MB)\n",
            "   📄 charge_analysis_summary_20250817_233236.csv (0.3 MB)\n",
            "   📄 charge_analysis_summary_20250818_031734.csv (0.5 MB)\n",
            "   📄 charge_analysis_summary_20250818_050340.csv (0.5 MB)\n",
            "   📄 charge_analysis_summary_20250818_083321.csv (0.4 MB)\n",
            "   📄 charge_analysis_summary_20250818_100031.csv (0.5 MB)\n",
            "   📄 charge_analysis_summary_20250818_130130.csv (0.0 MB)\n",
            "   📄 charge_analysis_summary_20250818_130412.csv (0.5 MB)\n",
            "   📄 charge_analysis_summary_20250818_180939.csv (0.3 MB)\n",
            "   📄 charge_analysis_summary_20250818_233847.csv (0.4 MB)\n",
            "   📄 charge_analysis_summary_20250818_234349.csv (0.2 MB)\n",
            "   📄 charge_analysis_summary_20250818_234439.csv (0.5 MB)\n",
            "   📄 charge_analysis_summary_20250819_015424.csv (0.5 MB)\n",
            "   📄 charge_analysis_summary_20250819_072134.csv (0.5 MB)\n",
            "   📄 charge_analysis_summary_20250819_072552.csv (0.0 MB)\n",
            "   📄 charge_analysis_summary_20250819_073553.csv (0.2 MB)\n",
            "   📄 charge_analysis_summary_20250819_083410.csv (0.4 MB)\n",
            "   📄 charge_analysis_summary_20250819_100725.csv (0.4 MB)\n",
            "   📄 charge_analysis_summary_233042.csv (0.3 MB)\n",
            "\\n📁 SEQUENCES: Found 0 files\n",
            "   ⚠️ No sequences files found\n",
            "\\n📁 BINDING_SITES: Found 0 files\n",
            "   ⚠️ No binding_sites files found\n",
            "\\n📁 INTERACTIONS: Found 0 files\n",
            "   ⚠️ No interactions files found\n",
            "\\n📁 PROGRESS: Found 0 files\n",
            "   ⚠️ No progress files found\n",
            "\\n🎯 TOTAL FILES TO PROCESS: 31\n",
            "✅ Ready to combine files!\n",
            "\\n============================================================\n",
            "🔄 COMBINING FILES\n",
            "============================================================\n",
            "\\n📊 COMBINING SUMMARY FILES\n",
            "----------------------------------------\n",
            "\\n🔄 Processing 31 summary file(s)...\n",
            "   📖 Reading 10-20k- Batch3_charge_analysis_summary_163654.csv...\n",
            "   ✅ Loaded 10-20k- Batch3_charge_analysis_summary_163654.csv: 518 rows, 28 columns\n",
            "   📖 Reading 70-80k_Batch_2_charge_analysis_summary_20250812_065140.csv...\n",
            "   ✅ Loaded 70-80k_Batch_2_charge_analysis_summary_20250812_065140.csv: 167 rows, 28 columns\n",
            "   📖 Reading 70-80k_Batch_2_charge_analysis_summary_20250812_111129.csv...\n",
            "   ✅ Loaded 70-80k_Batch_2_charge_analysis_summary_20250812_111129.csv: 166 rows, 28 columns\n",
            "   📖 Reading 70-80k_Batch_2_charge_analysis_summary_20250812_125848.csv...\n",
            "   ✅ Loaded 70-80k_Batch_2_charge_analysis_summary_20250812_125848.csv: 334 rows, 28 columns\n",
            "   📖 Reading 70-80k_folder_1_charge_analysis_summary_040055.csv...\n",
            "   ✅ Loaded 70-80k_folder_1_charge_analysis_summary_040055.csv: 983 rows, 28 columns\n",
            "   📖 Reading charge_analysis_summary_000615.csv...\n",
            "   ✅ Loaded charge_analysis_summary_000615.csv: 200 rows, 28 columns\n",
            "   📖 Reading charge_analysis_summary_090614.csv...\n",
            "   ✅ Loaded charge_analysis_summary_090614.csv: 29 rows, 28 columns\n",
            "   📖 Reading charge_analysis_summary_20250805_002413.csv...\n",
            "   ✅ Loaded charge_analysis_summary_20250805_002413.csv: 713 rows, 28 columns\n",
            "   📖 Reading charge_analysis_summary_20250816_090614.csv...\n",
            "   ✅ Loaded charge_analysis_summary_20250816_090614.csv: 300 rows, 28 columns\n",
            "   📖 Reading charge_analysis_summary_20250816_113118.csv...\n",
            "   ✅ Loaded charge_analysis_summary_20250816_113118.csv: 313 rows, 28 columns\n",
            "   📖 Reading charge_analysis_summary_20250816_235822.csv...\n",
            "   ✅ Loaded charge_analysis_summary_20250816_235822.csv: 313 rows, 28 columns\n",
            "   📖 Reading charge_analysis_summary_20250817_064600.csv...\n",
            "   ✅ Loaded charge_analysis_summary_20250817_064600.csv: 303 rows, 28 columns\n",
            "   📖 Reading charge_analysis_summary_20250817_233042.csv...\n",
            "   ✅ Loaded charge_analysis_summary_20250817_233042.csv: 271 rows, 28 columns\n",
            "   📖 Reading charge_analysis_summary_20250817_233236.csv...\n",
            "   ✅ Loaded charge_analysis_summary_20250817_233236.csv: 233 rows, 28 columns\n",
            "   📖 Reading charge_analysis_summary_20250818_031734.csv...\n",
            "   ✅ Loaded charge_analysis_summary_20250818_031734.csv: 297 rows, 28 columns\n",
            "   📖 Reading charge_analysis_summary_20250818_050340.csv...\n",
            "   ✅ Loaded charge_analysis_summary_20250818_050340.csv: 316 rows, 28 columns\n",
            "   📖 Reading charge_analysis_summary_20250818_083321.csv...\n",
            "   ✅ Loaded charge_analysis_summary_20250818_083321.csv: 271 rows, 28 columns\n",
            "   📖 Reading charge_analysis_summary_20250818_100031.csv...\n",
            "   ✅ Loaded charge_analysis_summary_20250818_100031.csv: 294 rows, 28 columns\n",
            "   📖 Reading charge_analysis_summary_20250818_130130.csv...\n",
            "   ✅ Loaded charge_analysis_summary_20250818_130130.csv: 1 rows, 28 columns\n",
            "   📖 Reading charge_analysis_summary_20250818_130412.csv...\n",
            "   ✅ Loaded charge_analysis_summary_20250818_130412.csv: 304 rows, 28 columns\n",
            "   📖 Reading charge_analysis_summary_20250818_180939.csv...\n",
            "   ✅ Loaded charge_analysis_summary_20250818_180939.csv: 222 rows, 28 columns\n",
            "   📖 Reading charge_analysis_summary_20250818_233847.csv...\n",
            "   ✅ Loaded charge_analysis_summary_20250818_233847.csv: 276 rows, 28 columns\n",
            "   📖 Reading charge_analysis_summary_20250818_234349.csv...\n",
            "   ✅ Loaded charge_analysis_summary_20250818_234349.csv: 178 rows, 28 columns\n",
            "   📖 Reading charge_analysis_summary_20250818_234439.csv...\n",
            "   ✅ Loaded charge_analysis_summary_20250818_234439.csv: 259 rows, 28 columns\n",
            "   📖 Reading charge_analysis_summary_20250819_015424.csv...\n",
            "   ✅ Loaded charge_analysis_summary_20250819_015424.csv: 273 rows, 28 columns\n",
            "   📖 Reading charge_analysis_summary_20250819_072134.csv...\n",
            "   ✅ Loaded charge_analysis_summary_20250819_072134.csv: 320 rows, 28 columns\n",
            "   📖 Reading charge_analysis_summary_20250819_072552.csv...\n",
            "   ✅ Loaded charge_analysis_summary_20250819_072552.csv: 0 rows, 28 columns\n",
            "   📖 Reading charge_analysis_summary_20250819_073553.csv...\n",
            "   ✅ Loaded charge_analysis_summary_20250819_073553.csv: 178 rows, 28 columns\n",
            "   📖 Reading charge_analysis_summary_20250819_083410.csv...\n",
            "   ✅ Loaded charge_analysis_summary_20250819_083410.csv: 261 rows, 28 columns\n",
            "   📖 Reading charge_analysis_summary_20250819_100725.csv...\n",
            "   ✅ Loaded charge_analysis_summary_20250819_100725.csv: 279 rows, 28 columns\n",
            "   📖 Reading charge_analysis_summary_233042.csv...\n",
            "   ✅ Loaded charge_analysis_summary_233042.csv: 292 rows, 28 columns\n",
            "   🔗 Combining 31 DataFrames...\n",
            "   📊 Combined result: 8,864 total rows\n",
            "   ✨ Final result: 8,864 unique rows, 28 columns\n",
            "   💾 ✅ Successfully combined summary data!\n",
            "\\n📊 SKIPPING SEQUENCES - No files found\n",
            "\\n📊 SKIPPING BINDING_SITES - No files found\n",
            "\\n📊 SKIPPING INTERACTIONS - No files found\n",
            "\\n📊 SKIPPING PROGRESS - No files found\n",
            "\\n============================================================\n",
            "🎉 COMBINATION COMPLETE!\n",
            "Successfully combined 1 file types.\n",
            "============================================================\n",
            "\\n📈 COMBINATION SUMMARY:\n",
            "File_Type  Source_Files  Combined_Rows  Columns\n",
            "  summary            31           8864       25\n",
            "\\n============================================================\n",
            "👁️ DATA PREVIEW\n",
            "============================================================\n",
            "\\n📋 SUMMARY - Sample data:\n",
            "--------------------------------------------------\n",
            "  protein_id     filename analysis_timestamp total_atoms  ... his_count asp_count glu_count chain_sequences\n",
            "0       8HFQ  8HFQ.pdb.gz  2025-08-04T...          54193  ...         0       431       306  {\"A\": \"MKTP...\n",
            "1       8HKD  8HKD.pdb.gz  2025-08-04T...           7103  ...         0        43        76  {\"A\": \"MDEQ...\n",
            "2       8HVE  8HVE.pdb.gz  2025-08-04T...           3446  ...         0        12         6  {\"A\": \"ATFE...\n",
            "\n",
            "[3 rows x 25 columns]\n",
            "\\n   📊 Total rows: 8,864\n",
            "   📋 Total columns: 25\n",
            "   📄 Source files: 30\n",
            "      70-80k_folder_1_charge_analysis_summary_040055.csv: 983 rows\n",
            "      charge_analysis_summary_20250805_002413.csv: 713 rows\n",
            "      10-20k- Batch3_charge_analysis_summary_163654.csv: 518 rows\n",
            "      70-80k_Batch_2_charge_analysis_summary_20250812_125848.csv: 334 rows\n",
            "      charge_analysis_summary_20250819_072134.csv: 320 rows\n",
            "      charge_analysis_summary_20250818_050340.csv: 316 rows\n",
            "      charge_analysis_summary_20250816_113118.csv: 313 rows\n",
            "      charge_analysis_summary_20250816_235822.csv: 313 rows\n",
            "      charge_analysis_summary_20250818_130412.csv: 304 rows\n",
            "      charge_analysis_summary_20250817_064600.csv: 303 rows\n",
            "      charge_analysis_summary_20250816_090614.csv: 300 rows\n",
            "      charge_analysis_summary_20250818_031734.csv: 297 rows\n",
            "      charge_analysis_summary_20250818_100031.csv: 294 rows\n",
            "      charge_analysis_summary_233042.csv: 292 rows\n",
            "      charge_analysis_summary_20250819_100725.csv: 279 rows\n",
            "      charge_analysis_summary_20250818_233847.csv: 276 rows\n",
            "      charge_analysis_summary_20250819_015424.csv: 273 rows\n",
            "      charge_analysis_summary_20250818_083321.csv: 271 rows\n",
            "      charge_analysis_summary_20250817_233042.csv: 271 rows\n",
            "      charge_analysis_summary_20250819_083410.csv: 261 rows\n",
            "      charge_analysis_summary_20250818_234439.csv: 259 rows\n",
            "      charge_analysis_summary_20250817_233236.csv: 233 rows\n",
            "      charge_analysis_summary_20250818_180939.csv: 222 rows\n",
            "      charge_analysis_summary_000615.csv: 200 rows\n",
            "      charge_analysis_summary_20250819_073553.csv: 178 rows\n",
            "      charge_analysis_summary_20250818_234349.csv: 178 rows\n",
            "      70-80k_Batch_2_charge_analysis_summary_20250812_065140.csv: 167 rows\n",
            "      70-80k_Batch_2_charge_analysis_summary_20250812_111129.csv: 166 rows\n",
            "      charge_analysis_summary_090614.csv: 29 rows\n",
            "      charge_analysis_summary_20250818_130130.csv: 1 rows\n",
            "\\n============================================================\n",
            "💾 SAVING COMBINED FILES\n",
            "============================================================\n",
            "\\n📁 Output directory: /content/drive/MyDrive/IontheFold/EDA/19-Aug-25/combined_analysis_20250819_194521\n",
            "\\n💾 Saving summary files...\n",
            "   ✅ combined_summary_20250819_194521.csv (12.8 MB, 8,864 rows)\n",
            "   ✅ combined_summary_with_metadata_20250819_194521.csv (13.3 MB, 8,864 rows)\n",
            "\\n🎉 Successfully saved 2 files!\n",
            "\\n📊 SAVE SUMMARY:\n",
            "File_Type                            Main_File                                      Detailed_File  Rows  Size_MB\n",
            "  summary combined_summary_20250819_194521.csv combined_summary_with_metadata_20250819_194521.csv  8864     12.8\n",
            "\\n💾 Summary saved: combination_summary_20250819_194521.csv\n",
            "\\n📁 All files saved in: /content/drive/MyDrive/IontheFold/EDA/19-Aug-25/combined_analysis_20250819_194521\n",
            "\\n============================================================\n",
            "📦 CREATING ZIP FILE\n",
            "============================================================\n",
            "   📄 Added: combined_summary_20250819_194521.csv\n",
            "   📄 Added: combined_summary_with_metadata_20250819_194521.csv\n",
            "   📄 Added: combination_summary_20250819_194521.csv\n",
            "\\n✅ Created zip file: combined_charge_analysis_20250819_194521.zip (4.0 MB)\n",
            "📁 Location: /content/drive/MyDrive/IontheFold/EDA/19-Aug-25/combined_charge_analysis_20250819_194521.zip\n",
            "\\n============================================================\n",
            "✨ FINAL SUMMARY\n",
            "============================================================\n",
            "\\n🎯 PROCESSING RESULTS:\n",
            "   📁 Original files found: 31\n",
            "   📊 File types combined: 1\n",
            "   📋 Total rows in combined data: 8,864\n",
            "\\n📂 OUTPUT LOCATION:\n",
            "   📁 Combined files: /content/drive/MyDrive/IontheFold/EDA/19-Aug-25/combined_analysis_20250819_194521\n",
            "   📦 Zip file: /content/drive/MyDrive/IontheFold/EDA/19-Aug-25/combined_charge_analysis_20250819_194521.zip\n",
            "\\n📋 COMBINED FILE TYPES:\n",
            "   📊 summary: 8,864 rows from 30 source file(s)\n",
            "\\n✅ SUCCESS! All files have been combined successfully.\n",
            "\\n============================================================\n"
          ]
        }
      ]
    },
    {
      "cell_type": "code",
      "source": [
        "!python3 /content/drive/MyDrive/IontheFold/EDA/70-80k/combine_files_script.py"
      ],
      "metadata": {
        "colab": {
          "base_uri": "https://localhost:8080/"
        },
        "id": "nZGRZY8ZY_8m",
        "outputId": "d9d6d347-f2f5-4f49-89ad-f5fa550a87e4"
      },
      "execution_count": null,
      "outputs": [
        {
          "output_type": "stream",
          "name": "stdout",
          "text": [
            "python3: can't open file '/content/drive/MyDrive/IontheFold/EDA/70-80k/combine_files_script.py': [Errno 2] No such file or directory\n"
          ]
        }
      ]
    },
    {
      "cell_type": "code",
      "source": [
        "!python3 /content/drive/MyDrive/IontheFold/EDA/10-20k/B3/combine_files_script.py"
      ],
      "metadata": {
        "colab": {
          "base_uri": "https://localhost:8080/"
        },
        "id": "FbsVspN9_ltu",
        "outputId": "04fd652b-e538-4537-b37e-5ccab1cd9eba"
      },
      "execution_count": null,
      "outputs": [
        {
          "output_type": "stream",
          "name": "stdout",
          "text": [
            "python3: can't open file '/content/drive/MyDrive/IontheFold/EDA/10-20k/B3/combine_files_script.py': [Errno 2] No such file or directory\n"
          ]
        }
      ]
    }
  ]
}