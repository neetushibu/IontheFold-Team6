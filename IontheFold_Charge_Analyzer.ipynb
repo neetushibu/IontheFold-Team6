{
  "nbformat": 4,
  "nbformat_minor": 0,
  "metadata": {
    "colab": {
      "provenance": [],
      "authorship_tag": "ABX9TyOPA0cb7jdMuuI4F/8TrqSc",
      "include_colab_link": true
    },
    "kernelspec": {
      "name": "python3",
      "display_name": "Python 3"
    },
    "language_info": {
      "name": "python"
    }
  },
  "cells": [
    {
      "cell_type": "markdown",
      "metadata": {
        "id": "view-in-github",
        "colab_type": "text"
      },
      "source": [
        "<a href=\"https://colab.research.google.com/github/neetushibu/IontheFold-Team6/blob/main/IontheFold_Charge_Analyzer.ipynb\" target=\"_parent\"><img src=\"https://colab.research.google.com/assets/colab-badge.svg\" alt=\"Open In Colab\"/></a>"
      ]
    },
    {
      "cell_type": "code",
      "execution_count": 2,
      "metadata": {
        "colab": {
          "base_uri": "https://localhost:8080/"
        },
        "id": "kxn9eqfdw5xN",
        "outputId": "e234ef33-39fa-466f-dd21-fddf4cb187b8"
      },
      "outputs": [
        {
          "output_type": "stream",
          "name": "stdout",
          "text": [
            "Mounted at /content/drive\n"
          ]
        }
      ],
      "source": [
        "from google.colab import drive\n",
        "drive.mount('/content/drive')\n"
      ]
    },
    {
      "cell_type": "code",
      "source": [
        "%cd /content/drive/MyDrive/IontheFold/\n"
      ],
      "metadata": {
        "colab": {
          "base_uri": "https://localhost:8080/"
        },
        "id": "f4muQ74_xVh0",
        "outputId": "3c2f1d30-d2f0-467c-8490-7ca9598f4109"
      },
      "execution_count": 4,
      "outputs": [
        {
          "output_type": "stream",
          "name": "stdout",
          "text": [
            "/content/drive/MyDrive/IontheFold\n"
          ]
        }
      ]
    },
    {
      "cell_type": "code",
      "source": [
        "!python3 New_Charge_analyser.py\n"
      ],
      "metadata": {
        "colab": {
          "base_uri": "https://localhost:8080/"
        },
        "id": "iQYj8ROdxkct",
        "outputId": "e056cee2-4854-45ab-b429-9f6424301713"
      },
      "execution_count": null,
      "outputs": [
        {
          "output_type": "stream",
          "name": "stdout",
          "text": [
            "⚡ Molecular Charge Affinity Analyzer\n",
            "==================================================\n",
            "Options:\n",
            "1. Analyze single file\n",
            "2. Batch analyze folder\n",
            "3. Exit\n",
            "\n",
            "Select mode (1-3): 2\n",
            "Enter folder path containing .pdb/.pdb.gz files: /content/drive/MyDrive/IontheFold/downloads/10-20K\n",
            "Enter output folder (press Enter for default): /content/drive/MyDrive/IontheFold/EDA/10-20k\n",
            "\n",
            "🚀 Starting batch analysis...\n",
            "🔍 Found 8924 PDB files to analyze\n",
            "📁 Output will be saved to: /content/drive/MyDrive/IontheFold/EDA/10-20k\n",
            "\n",
            "📊 Processing 1/8924: 8C8E\n",
            "✓ Successfully opened compressed file: 8C8E.pdb.gz\n",
            "✓ Parsed 1157 atoms from PDB file\n",
            "✓ Assigned partial charges to 1157 atoms\n",
            "✓ Identified 46 charged residues\n",
            "  🔍 Finding binding sites...\n",
            "⚠️  No charges assigned. Running charge assignment first...\n",
            "✓ Assigned partial charges to 1157 atoms\n",
            "🔍 Scanning 4800 grid points...\n",
            "  Progress: 0/8 (0%)\n",
            "✓ Found 207 potential binding sites\n",
            "  ✓ 8C8E: 1157 atoms, 46 charged residues, 207 binding sites\n",
            "\n",
            "📊 Processing 2/8924: 8CJY\n",
            "✓ Successfully opened compressed file: 8CJY.pdb.gz\n",
            "✓ Parsed 18627 atoms from PDB file\n",
            "✓ Assigned partial charges to 18627 atoms\n",
            "✓ Identified 320 charged residues\n",
            "  🔍 Finding binding sites...\n",
            "⚠️  No charges assigned. Running charge assignment first...\n",
            "✓ Assigned partial charges to 18627 atoms\n",
            "🔍 Scanning 33852 grid points...\n",
            "  Progress: 0/14 (0%)\n",
            "  Progress: 10/14 (71%)\n",
            "✓ Found 1034 potential binding sites\n",
            "  ✓ 8CJY: 18627 atoms, 320 charged residues, 1034 binding sites\n",
            "\n",
            "📊 Processing 3/8924: 8DIV\n",
            "✓ Successfully opened compressed file: 8DIV.pdb.gz\n",
            "✓ Parsed 2252 atoms from PDB file\n",
            "✓ Assigned partial charges to 2252 atoms\n",
            "✓ Identified 34 charged residues\n",
            "  🔍 Finding binding sites...\n",
            "⚠️  No charges assigned. Running charge assignment first...\n",
            "✓ Assigned partial charges to 2252 atoms\n",
            "🔍 Scanning 17342 grid points...\n",
            "  Progress: 0/12 (0%)\n",
            "  Progress: 10/12 (83%)\n",
            "✓ Found 372 potential binding sites\n",
            "  ✓ 8DIV: 2252 atoms, 34 charged residues, 372 binding sites\n",
            "\n",
            "📊 Processing 4/8924: 8DIY\n",
            "✓ Successfully opened compressed file: 8DIY.pdb.gz\n",
            "✓ Parsed 2191 atoms from PDB file\n",
            "✓ Assigned partial charges to 2191 atoms\n",
            "✓ Identified 34 charged residues\n",
            "  🔍 Finding binding sites...\n",
            "⚠️  No charges assigned. Running charge assignment first...\n",
            "✓ Assigned partial charges to 2191 atoms\n",
            "🔍 Scanning 16588 grid points...\n",
            "  Progress: 0/13 (0%)\n",
            "  Progress: 10/13 (77%)\n",
            "✓ Found 225 potential binding sites\n",
            "  ✓ 8DIY: 2191 atoms, 34 charged residues, 225 binding sites\n",
            "\n",
            "📊 Processing 5/8924: 8EAE\n",
            "✓ Successfully opened compressed file: 8EAE.pdb.gz\n",
            "✓ Parsed 7463 atoms from PDB file\n",
            "✓ Assigned partial charges to 7463 atoms\n",
            "✓ Identified 242 charged residues\n",
            "  🔍 Finding binding sites...\n",
            "⚠️  No charges assigned. Running charge assignment first...\n",
            "✓ Assigned partial charges to 7463 atoms\n",
            "🔍 Scanning 26880 grid points...\n",
            "  Progress: 0/15 (0%)\n",
            "  Progress: 10/15 (67%)\n",
            "✓ Found 1060 potential binding sites\n",
            "  ✓ 8EAE: 7463 atoms, 242 charged residues, 1060 binding sites\n",
            "\n",
            "📊 Processing 6/8924: 8EHZ\n",
            "✓ Successfully opened compressed file: 8EHZ.pdb.gz\n",
            "✓ Parsed 2279 atoms from PDB file\n",
            "✓ Assigned partial charges to 2279 atoms\n",
            "✓ Identified 75 charged residues\n",
            "  🔍 Finding binding sites...\n",
            "⚠️  No charges assigned. Running charge assignment first...\n",
            "✓ Assigned partial charges to 2279 atoms\n",
            "🔍 Scanning 11136 grid points...\n",
            "  Progress: 0/12 (0%)\n",
            "  Progress: 10/12 (83%)\n",
            "✓ Found 421 potential binding sites\n",
            "  ✓ 8EHZ: 2279 atoms, 75 charged residues, 421 binding sites\n",
            "\n",
            "📊 Processing 7/8924: 8EI0\n",
            "✓ Successfully opened compressed file: 8EI0.pdb.gz\n",
            "✓ Parsed 1350 atoms from PDB file\n",
            "✓ Assigned partial charges to 1350 atoms\n",
            "✓ Identified 39 charged residues\n",
            "  🔍 Finding binding sites...\n",
            "⚠️  No charges assigned. Running charge assignment first...\n",
            "✓ Assigned partial charges to 1350 atoms\n",
            "🔍 Scanning 6118 grid points...\n",
            "  Progress: 0/7 (0%)\n",
            "✓ Found 249 potential binding sites\n",
            "  ✓ 8EI0: 1350 atoms, 39 charged residues, 249 binding sites\n",
            "\n",
            "📊 Processing 8/8924: 8EI1\n",
            "✓ Successfully opened compressed file: 8EI1.pdb.gz\n",
            "✓ Parsed 11809 atoms from PDB file\n",
            "✓ Assigned partial charges to 11809 atoms\n",
            "✓ Identified 438 charged residues\n",
            "  🔍 Finding binding sites...\n",
            "⚠️  No charges assigned. Running charge assignment first...\n",
            "✓ Assigned partial charges to 11809 atoms\n",
            "🔍 Scanning 56212 grid points...\n",
            "  Progress: 0/24 (0%)\n",
            "  Progress: 10/24 (42%)\n"
          ]
        }
      ]
    }
  ]
}