{
  "nbformat": 4,
  "nbformat_minor": 0,
  "metadata": {
    "colab": {
      "provenance": [],
      "mount_file_id": "1NFpz_bfmlz3IV-gB0S_XQozM12XiMlV3",
      "authorship_tag": "ABX9TyNdoM8dpKhkPme4sWQSyb1j",
      "include_colab_link": true
    },
    "kernelspec": {
      "name": "python3",
      "display_name": "Python 3"
    },
    "language_info": {
      "name": "python"
    }
  },
  "cells": [
    {
      "cell_type": "markdown",
      "metadata": {
        "id": "view-in-github",
        "colab_type": "text"
      },
      "source": [
        "<a href=\"https://colab.research.google.com/github/neetushibu/IontheFold-Team6/blob/main/IontheFold_SelectionCriteria.ipynb\" target=\"_parent\"><img src=\"https://colab.research.google.com/assets/colab-badge.svg\" alt=\"Open In Colab\"/></a>"
      ]
    },
    {
      "cell_type": "markdown",
      "source": [
        "# **Charged Protein - Selection Criteria**\n",
        "\n",
        "🥇 Gold (Top 10%)\n",
        "\n",
        "Chains: ≥ 2 (must be multichain, since we are studying PPIs)\n",
        "\n",
        "Charged residues per 100 aa: ≥ 18.3%\n",
        "\n",
        "Total binding sites: ≥ 1716\n",
        "\n",
        "Represents the “hottest” PPIs — extremely electrostatically rich, ideal for focused fine-tuning.\n",
        "\n",
        "🥈 Silver (Top 25%)\n",
        "\n",
        "Chains: ≥ 2\n",
        "\n",
        "Charged residues per 100 aa: ≥ 10.2%\n",
        "\n",
        "Total binding sites: ≥ 1078\n",
        "\n",
        "Strong electrostatic candidates, balanced size and quality — good for building a robust mid-sized training dataset.\n",
        "\n",
        "🥉 Bronze (Top 40%)\n",
        "\n",
        "Chains: ≥ 2\n",
        "\n",
        "Charged residues per 100 aa: ≥ 7.4%\n",
        "\n",
        "Total binding sites: ≥ 800 (approx, 60th percentile)\n",
        "\n",
        "Broader dataset, useful if you need more coverage and diversity, even if some noise is introduced.\n",
        "\n",
        "🚫 Excluded\n",
        "\n",
        "Ineligible: Single-chain proteins or missing charge data.\n",
        "\n",
        "Below Threshold: Multichain but fails to meet even Bronze thresholds."
      ],
      "metadata": {
        "id": "anozgqEo9VLD"
      }
    },
    {
      "cell_type": "code",
      "source": [
        "from google.colab import drive\n",
        "drive.mount('/content/drive')"
      ],
      "metadata": {
        "colab": {
          "base_uri": "https://localhost:8080/"
        },
        "id": "GaacwRQL9I0Z",
        "outputId": "e76646ff-a536-4ead-aa18-ef97927c17a5"
      },
      "execution_count": 1,
      "outputs": [
        {
          "output_type": "stream",
          "name": "stdout",
          "text": [
            "Drive already mounted at /content/drive; to attempt to forcibly remount, call drive.mount(\"/content/drive\", force_remount=True).\n"
          ]
        }
      ]
    },
    {
      "cell_type": "code",
      "execution_count": 2,
      "metadata": {
        "colab": {
          "base_uri": "https://localhost:8080/"
        },
        "id": "820BMYll9Ds7",
        "outputId": "c35a8bfa-c555-4633-fb14-ab7db0bf4935"
      },
      "outputs": [
        {
          "output_type": "execute_result",
          "data": {
            "text/plain": [
              "(np.float64(1830.4347826086957),\n",
              " np.float64(984.0),\n",
              " np.float64(654.5454545454546),\n",
              " np.float64(1770.0),\n",
              " np.float64(1045.0),\n",
              " np.float64(743.0),\n",
              " {'Ineligible': 3063,\n",
              "  'Below Threshold': 2803,\n",
              "  'Silver (Top 25%)': 1278,\n",
              "  'Bronze (Top 40%)': 1263,\n",
              "  'Gold (Top 10%)': 718},\n",
              " '/content/drive/MyDrive/IontheFold/EDA/19-Aug-25/FullSequence_Analysis_with_Tiers.csv')"
            ]
          },
          "metadata": {},
          "execution_count": 2
        }
      ],
      "source": [
        "import pandas as pd\n",
        "from pathlib import Path\n",
        "\n",
        "# Load the analyzer summary provided by user\n",
        "input_file = Path(\"/content/drive/MyDrive/IontheFold/EDA/19-Aug-25/FullSequence_Analysis.csv\")\n",
        "df = pd.read_csv(input_file)\n",
        "\n",
        "# Standardize column names\n",
        "df.columns = [c.strip().replace(\" \", \"_\").replace(\"-\", \"_\").lower() for c in df.columns]\n",
        "\n",
        "# Key columns\n",
        "tot_res_col = \"total_residues\"\n",
        "chg_res_col = \"total_charged_residues\"\n",
        "sites_col   = \"total_binding_sites\"\n",
        "chains_col  = \"total_chains\"\n",
        "\n",
        "# Derived metric: charged residues per 100 aa\n",
        "df[\"charged_fraction\"] = pd.to_numeric(df[chg_res_col], errors=\"coerce\") / pd.to_numeric(df[tot_res_col], errors=\"coerce\") * 100\n",
        "\n",
        "# Compute percentiles for tier cutoffs\n",
        "charged_frac_p90 = df[\"charged_fraction\"].quantile(0.90)\n",
        "charged_frac_p75 = df[\"charged_fraction\"].quantile(0.75)\n",
        "charged_frac_p60 = df[\"charged_fraction\"].quantile(0.60)\n",
        "\n",
        "binding_sites_p90 = pd.to_numeric(df[sites_col], errors=\"coerce\").quantile(0.90)\n",
        "binding_sites_p75 = pd.to_numeric(df[sites_col], errors=\"coerce\").quantile(0.75)\n",
        "binding_sites_p60 = pd.to_numeric(df[sites_col], errors=\"coerce\").quantile(0.60)\n",
        "\n",
        "# Assign tiers\n",
        "def assign_tier(row):\n",
        "    chains = pd.to_numeric(row[chains_col], errors=\"coerce\")\n",
        "    frac   = row[\"charged_fraction\"]\n",
        "    sites  = pd.to_numeric(row[sites_col], errors=\"coerce\")\n",
        "    if chains < 2 or pd.isna(frac) or pd.isna(sites):\n",
        "        return \"Ineligible\"\n",
        "    if frac >= charged_frac_p90 and sites >= binding_sites_p90:\n",
        "        return \"Gold (Top 10%)\"\n",
        "    elif frac >= charged_frac_p75 and sites >= binding_sites_p75:\n",
        "        return \"Silver (Top 25%)\"\n",
        "    elif frac >= charged_frac_p60 and sites >= binding_sites_p60:\n",
        "        return \"Bronze (Top 40%)\"\n",
        "    else:\n",
        "        return \"Below Threshold\"\n",
        "\n",
        "df[\"tier\"] = df.apply(assign_tier, axis=1)\n",
        "\n",
        "# Save updated file\n",
        "out_file = Path(\"/content/drive/MyDrive/IontheFold/EDA/19-Aug-25/FullSequence_Analysis_with_Tiers.csv\")\n",
        "df.to_csv(out_file, index=False)\n",
        "\n",
        "# Summary counts\n",
        "tier_counts = df[\"tier\"].value_counts().to_dict()\n",
        "(\n",
        "    charged_frac_p90, charged_frac_p75, charged_frac_p60,\n",
        "    binding_sites_p90, binding_sites_p75, binding_sites_p60,\n",
        "    tier_counts, str(out_file)\n",
        ")\n"
      ]
    }
  ]
}